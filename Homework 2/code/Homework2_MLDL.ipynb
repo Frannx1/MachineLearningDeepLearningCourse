{
  "nbformat": 4,
  "nbformat_minor": 0,
  "metadata": {
    "colab": {
      "name": "Homework2-MLDL.ipynb",
      "provenance": [],
      "collapsed_sections": []
    },
    "kernelspec": {
      "name": "python3",
      "display_name": "Python 3"
    },
    "accelerator": "GPU"
  },
  "cells": [
    {
      "cell_type": "markdown",
      "metadata": {
        "id": "c9QcGnGPdX2C",
        "colab_type": "text"
      },
      "source": [
        "\n",
        "**Install requirements**"
      ]
    },
    {
      "cell_type": "code",
      "metadata": {
        "id": "k9O3aM3Tb28q",
        "colab_type": "code",
        "outputId": "66e5136f-b7d9-45e9-9aae-3c60c2196ad4",
        "colab": {
          "base_uri": "https://localhost:8080/",
          "height": 411
        }
      },
      "source": [
        "!pip3 install 'torch==1.3.1'\n",
        "!pip3 install 'torchvision==0.5.0'\n",
        "!pip3 install 'Pillow-SIMD'\n",
        "# need tqdm version 4.30.0 for compatibility\n",
        "!pip3 install 'tqdm==4.30.0'"
      ],
      "execution_count": 0,
      "outputs": [
        {
          "output_type": "stream",
          "text": [
            "Collecting torch==1.3.1\n",
            "  Using cached https://files.pythonhosted.org/packages/88/95/90e8c4c31cfc67248bf944ba42029295b77159982f532c5689bcfe4e9108/torch-1.3.1-cp36-cp36m-manylinux1_x86_64.whl\n",
            "Requirement already satisfied: numpy in /usr/local/lib/python3.6/dist-packages (from torch==1.3.1) (1.18.3)\n",
            "\u001b[31mERROR: torchvision 0.5.0 has requirement torch==1.4.0, but you'll have torch 1.3.1 which is incompatible.\u001b[0m\n",
            "Installing collected packages: torch\n",
            "  Found existing installation: torch 1.4.0\n",
            "    Uninstalling torch-1.4.0:\n",
            "      Successfully uninstalled torch-1.4.0\n",
            "Successfully installed torch-1.3.1\n",
            "Requirement already satisfied: torchvision==0.5.0 in /usr/local/lib/python3.6/dist-packages (0.5.0)\n",
            "Requirement already satisfied: pillow>=4.1.1 in /usr/local/lib/python3.6/dist-packages (from torchvision==0.5.0) (7.0.0)\n",
            "Requirement already satisfied: numpy in /usr/local/lib/python3.6/dist-packages (from torchvision==0.5.0) (1.18.3)\n",
            "Requirement already satisfied: six in /usr/local/lib/python3.6/dist-packages (from torchvision==0.5.0) (1.12.0)\n",
            "Collecting torch==1.4.0\n",
            "  Using cached https://files.pythonhosted.org/packages/24/19/4804aea17cd136f1705a5e98a00618cb8f6ccc375ad8bfa437408e09d058/torch-1.4.0-cp36-cp36m-manylinux1_x86_64.whl\n",
            "Installing collected packages: torch\n",
            "  Found existing installation: torch 1.3.1\n",
            "    Uninstalling torch-1.3.1:\n",
            "      Successfully uninstalled torch-1.3.1\n",
            "Successfully installed torch-1.4.0\n",
            "Requirement already satisfied: Pillow-SIMD in /usr/local/lib/python3.6/dist-packages (7.0.0.post3)\n",
            "Requirement already satisfied: tqdm==4.30.0 in /usr/local/lib/python3.6/dist-packages (4.30.0)\n"
          ],
          "name": "stdout"
        }
      ]
    },
    {
      "cell_type": "markdown",
      "metadata": {
        "id": "fo942LMOdlh4",
        "colab_type": "text"
      },
      "source": [
        "**Import libraries**"
      ]
    },
    {
      "cell_type": "code",
      "metadata": {
        "id": "DokFOdD1dJEl",
        "colab_type": "code",
        "colab": {}
      },
      "source": [
        "import os\n",
        "import logging\n",
        "\n",
        "import torch\n",
        "import torch.nn as nn\n",
        "import torch.optim as optim\n",
        "from torch.utils.data import Subset, DataLoader\n",
        "from torch.backends import cudnn\n",
        "\n",
        "import torchvision\n",
        "from torchvision import transforms\n",
        "from torchvision.models import alexnet\n",
        "\n",
        "from PIL import Image\n",
        "from tqdm import tqdm\n",
        "import numpy as np\n",
        "import matplotlib.pyplot as plt\n"
      ],
      "execution_count": 0,
      "outputs": []
    },
    {
      "cell_type": "markdown",
      "metadata": {
        "id": "FCcC-LacRKfI",
        "colab_type": "text"
      },
      "source": [
        "**Analyzing data classes**"
      ]
    },
    {
      "cell_type": "code",
      "metadata": {
        "id": "YRJKOVhYRJrz",
        "colab_type": "code",
        "outputId": "96093267-bf5a-418a-c448-d2af62d0d933",
        "colab": {
          "base_uri": "https://localhost:8080/",
          "height": 956
        }
      },
      "source": [
        "from collections import defaultdict\n",
        "\n",
        "# Clone github repository with data\n",
        "if not os.path.isdir('./Caltech101'):\n",
        "  !git clone https://github.com/MachineLearning2020/Homework2-Caltech101.git\n",
        "  !mv 'Homework2-Caltech101' 'Caltech101'\n",
        "\n",
        "PROJECT_DIR = 'Caltech101'\n",
        "DATA_DIR = PROJECT_DIR + '/101_ObjectCategories'\n",
        "\n",
        "# First lets take a general picture of the whole dataset\n",
        "classes = sorted(os.listdir(os.path.join(DATA_DIR)))\n",
        "classes.remove('BACKGROUND_Google')  # excluding the background class\n",
        "\n",
        "classes_counter = {}.fromkeys(classes, 0)\n",
        "\n",
        "for category in classes:\n",
        "    classes_counter[category] = len(os.listdir(os.path.join(DATA_DIR, category)))\n",
        "\n",
        "# Not the best representsation but it shows the distribution and imbalance of classes\n",
        "plt.bar(list(range(0, len(classes_counter.keys()))), classes_counter.values())\n",
        "plt.xlabel('Index of categoriy')\n",
        "plt.ylabel('Number of images')\n",
        "plt.show()\n",
        "print('Total images: ' + str(sum(classes_counter.values())))\n",
        "\n",
        "\n",
        "# Now lets see the training set\n",
        "train_classes_counter = {}.fromkeys(classes, 0)   # Just in case if there is a class missing\n",
        "train_path_list = open(os.path.join(PROJECT_DIR, 'train.txt')).readlines()\n",
        "for path in train_path_list:\n",
        "    category = path.split('/')[0]\n",
        "    if 'BACKGROUND_Google' != category:\n",
        "        train_classes_counter[category] = train_classes_counter[category] + 1\n",
        "\n",
        "plt.bar(list(range(0, len(train_classes_counter.keys()))), train_classes_counter.values());\n",
        "plt.xlabel('Index of categoriy')\n",
        "plt.ylabel('Number of images')\n",
        "plt.show()\n",
        "print('Training images: ' + str(sum(train_classes_counter.values())))\n",
        "\n",
        "\n",
        "# And finally the test set\n",
        "test_classes_counter = {}.fromkeys(classes, 0)\n",
        "test_path_list = open(os.path.join(PROJECT_DIR, 'test.txt')).readlines()\n",
        "for path in test_path_list:\n",
        "    category = path.split('/')[0]\n",
        "    if 'BACKGROUND_Google' != category:\n",
        "        test_classes_counter[category] = test_classes_counter[category] + 1\n",
        "\n",
        "plt.bar(list(range(0, len(test_classes_counter.keys()))), test_classes_counter.values());\n",
        "plt.xlabel('Index of categoriy')\n",
        "plt.ylabel('Number of images')\n",
        "plt.show()\n",
        "print('Test images: ' + str(sum(test_classes_counter.values())))\n",
        "\n"
      ],
      "execution_count": 0,
      "outputs": [
        {
          "output_type": "stream",
          "text": [
            "Cloning into 'Homework2-Caltech101'...\n",
            "remote: Enumerating objects: 9256, done.\u001b[K\n",
            "remote: Total 9256 (delta 0), reused 0 (delta 0), pack-reused 9256\u001b[K\n",
            "Receiving objects: 100% (9256/9256), 129.48 MiB | 38.64 MiB/s, done.\n",
            "Resolving deltas: 100% (4/4), done.\n",
            "Checking out files: 100% (9149/9149), done.\n"
          ],
          "name": "stdout"
        },
        {
          "output_type": "display_data",
          "data": {
            "image/png": "[encoded data removed]",
            "text/plain": [
              "<Figure size 432x288 with 1 Axes>"
            ]
          },
          "metadata": {
            "tags": [],
            "needs_background": "light"
          }
        },
        {
          "output_type": "stream",
          "text": [
            "Total images: 8677\n"
          ],
          "name": "stdout"
        },
        {
          "output_type": "display_data",
          "data": {
            "image/png": "[encoded data removed]",
            "text/plain": [
              "<Figure size 432x288 with 1 Axes>"
            ]
          },
          "metadata": {
            "tags": [],
            "needs_background": "light"
          }
        },
        {
          "output_type": "stream",
          "text": [
            "Training images: 5784\n"
          ],
          "name": "stdout"
        },
        {
          "output_type": "display_data",
          "data": {
            "image/png": "[encoded data removed]",
            "text/plain": [
              "<Figure size 432x288 with 1 Axes>"
            ]
          },
          "metadata": {
            "tags": [],
            "needs_background": "light"
          }
        },
        {
          "output_type": "stream",
          "text": [
            "Test images: 2893\n"
          ],
          "name": "stdout"
        }
      ]
    },
    {
      "cell_type": "markdown",
      "metadata": {
        "id": "Z-ENqQV3bwAW",
        "colab_type": "text"
      },
      "source": [
        "It seems to maintain the distribution"
      ]
    },
    {
      "cell_type": "markdown",
      "metadata": {
        "id": "4vvMao8j_EF2",
        "colab_type": "text"
      },
      "source": [
        "**Implemented Dataset**"
      ]
    },
    {
      "cell_type": "code",
      "metadata": {
        "id": "hzyxUwOU_CzM",
        "colab_type": "code",
        "colab": {}
      },
      "source": [
        "from torchvision.datasets import VisionDataset\n",
        "\n",
        "from PIL import Image\n",
        "\n",
        "import os\n",
        "import os.path\n",
        "import sys\n",
        "\n",
        "\n",
        "def pil_loader(path):\n",
        "    # open path as file to avoid ResourceWarning (https://github.com/python-pillow/Pillow/issues/835)\n",
        "    with open(path, 'rb') as f:\n",
        "        img = Image.open(f)\n",
        "        return img.convert('RGB')\n",
        "\n",
        "\n",
        "class Caltech(VisionDataset):\n",
        "    def __init__(self, root, split='train', transform=None, target_transform=None):\n",
        "        super(Caltech, self).__init__(root, transform=transform, target_transform=target_transform)\n",
        "\n",
        "        self.split = split # This defines the split you are going to use\n",
        "                           # (split files are called 'train.txt' and 'test.txt')\n",
        "\n",
        "        '''\n",
        "        - Here you should implement the logic for reading the splits files and accessing elements\n",
        "        - If the RAM size allows it, it is faster to store all data in memory\n",
        "        - PyTorch Dataset classes use indexes to read elements\n",
        "        - You should provide a way for the __getitem__ method to access the image-label pair\n",
        "          through the index\n",
        "        - Labels should start from 0, so for Caltech you will have lables 0...100 (excluding the background class) \n",
        "        '''\n",
        "\n",
        "        BANNED_CLASS = 'BACKGROUND_Google'\n",
        "        \n",
        "        self.images_root = os.path.join(self.root, '101_ObjectCategories')\n",
        "        # List of all classes sorted\n",
        "        self.classes = sorted([d.name for d in os.scandir(self.images_root) if d.is_dir()])\n",
        "        self.classes.remove(BANNED_CLASS)  # excluding the background class\n",
        "        \n",
        "        self.labels_dict = {i: self.classes[i] for i in range(len(self.classes))}\n",
        "\n",
        "        with open(os.path.join(self.root, self.split + '.txt')) as f:\n",
        "            path_list = f.read().splitlines() \n",
        "\n",
        "        self.images = []\n",
        "        self.labels = []\n",
        "\n",
        "        # Loading all the images with its label in memory\n",
        "        for path in path_list:\n",
        "            if BANNED_CLASS not in path:\n",
        "                self.labels.append(self.classes.index(path.split('/')[0]))\n",
        "                self.images.append(pil_loader(os.path.join(self.images_root, path)))\n",
        "\n",
        "    def __getitem__(self, index):\n",
        "        '''\n",
        "        __getitem__ should access an element through its index\n",
        "        Args:\n",
        "            index (int): Index\n",
        "        Returns:\n",
        "            tuple: (sample, target) where target is class_index of the target class.\n",
        "        '''\n",
        "\n",
        "        image, label = self.images[index], self.labels[index]\n",
        "\n",
        "        # Applies preprocessing when accessing the image\n",
        "        if self.transform is not None:\n",
        "            image = self.transform(image)\n",
        "\n",
        "        if self.target_transform is not None:\n",
        "            label = self.target_transform(label)\n",
        "\n",
        "        return image, label\n",
        "    \n",
        "    def __len__(self):\n",
        "        '''\n",
        "        The __len__ method returns the length of the dataset\n",
        "        It is mandatory, as this is used by several other components\n",
        "        '''\n",
        "        length = len(self.images)\n",
        "        return length\n",
        "    \n",
        "    def get_labels(self):\n",
        "        return self.labels\n",
        "\n",
        "    def get_labels_dict(self):\n",
        "        return self.labels_dict\n"
      ],
      "execution_count": 0,
      "outputs": []
    },
    {
      "cell_type": "markdown",
      "metadata": {
        "id": "OIDLJuIXK_vh",
        "colab_type": "text"
      },
      "source": [
        "**Set Arguments**"
      ]
    },
    {
      "cell_type": "code",
      "metadata": {
        "id": "d5PkYfqfK_SA",
        "colab_type": "code",
        "colab": {}
      },
      "source": [
        "DEVICE = 'cuda' # 'cuda' or 'cpu'\n",
        "\n",
        "NUM_CLASSES = 102 # 101 + 1: There is am extra Background class that should be removed \n",
        "\n",
        "BATCH_SIZE = int(256 / 1)     # Higher batch sizes allows for larger learning rates. An empirical heuristic suggests that, when changing\n",
        "                     # the batch size, learning rate should change by the same factor to have comparable results\n",
        "\n",
        "LR = 1e-3 * 20         # The initial Learning Rate\n",
        "MOMENTUM = 0.9       # Hyperparameter for SGD, keep this at 0.9 when using SGD\n",
        "WEIGHT_DECAY = 5e-5  # Regularization, you can keep this at the default\n",
        "\n",
        "NUM_EPOCHS = int(20)     # Total number of training epochs (iterations over dataset)\n",
        "STEP_SIZE = int(4)      # How many epochs before decreasing learning rate (if using a step-down policy)\n",
        "GAMMA = 0.5          # Multiplicative factor for learning rate step-down\n",
        "\n",
        "LOG_FREQUENCY = 10"
      ],
      "execution_count": 0,
      "outputs": []
    },
    {
      "cell_type": "markdown",
      "metadata": {
        "id": "9gwii0TBHvzh",
        "colab_type": "text"
      },
      "source": [
        "**Define Data Preprocessing**"
      ]
    },
    {
      "cell_type": "code",
      "metadata": {
        "id": "QUDdw4j2H0Mc",
        "colab_type": "code",
        "outputId": "38586650-a3bd-4e6b-941e-270be62a95da",
        "colab": {
          "base_uri": "https://localhost:8080/",
          "height": 54
        }
      },
      "source": [
        "# Define transforms for training phase\n",
        "# Normalize ImageNet: https://github.com/pytorch/examples/blob/97304e232807082c2e7b54c597615dc0ad8f6173/imagenet/main.py#L197-L198\n",
        "mean_imagenet = [0.485, 0.456, 0.406]\n",
        "std_imagenet = [0.229, 0.224, 0.225]\n",
        "\n",
        "# Last for data aumentation:\n",
        "train_transform = transforms.Compose([transforms.RandomResizedCrop(size=256, scale=(0.8, 1.0)),\n",
        "                                         transforms.ColorJitter(),\n",
        "                                         transforms.RandomHorizontalFlip(),\n",
        "                                         transforms.CenterCrop(size=224),  \n",
        "                                         transforms.ToTensor(),\n",
        "                                         transforms.Normalize(mean=mean_imagenet, std=std_imagenet)])\n",
        "# Define transforms for the evaluation phase\n",
        "eval_transform = transforms.Compose([transforms.Resize(256),\n",
        "                                        transforms.CenterCrop(224),\n",
        "                                        transforms.ToTensor(),\n",
        "                                        transforms.Normalize(mean=mean_imagenet, std=std_imagenet)])                                  \n",
        "\n",
        "\"\"\"\n",
        "Other sets for data augmentation:\n",
        "train_transform_set1 = transforms.Compose([transforms.RandomResizedCrop(size=256, scale=(0.8, 1.0)),\n",
        "                                         transforms.RandomRotation(degrees=20),\n",
        "                                         transforms.RandomHorizontalFlip(),\n",
        "                                         transforms.CenterCrop(size=224),  \n",
        "                                         transforms.ToTensor(),\n",
        "                                         transforms.Normalize(mean=mean_imagenet, std=std_imagenet)])\n",
        "\n",
        "train_transform_set2 = transforms.Compose([transforms.RandomResizedCrop(size=256, scale=(0.8, 1.0)),\n",
        "                                         transforms.RandomRotation(degrees=10),\n",
        "                                         transforms.ColorJitter(),\n",
        "                                         transforms.RandomHorizontalFlip(),\n",
        "                                         transforms.CenterCrop(size=224),  \n",
        "                                         transforms.ToTensor(),\n",
        "                                         transforms.Normalize(mean=mean_imagenet, std=std_imagenet)])\n",
        "\n",
        "########\n",
        "\n",
        "For training from scratch:\n",
        "train_transform = transforms.Compose([transforms.Resize(256),      \n",
        "                                      transforms.CenterCrop(224),  \n",
        "                                      transforms.ToTensor(),\n",
        "                                      transforms.Normalize((0.5, 0.5, 0.5), (0.5, 0.5, 0.5))\n",
        "])\n",
        "eval_transform = transforms.Compose([transforms.Resize(256),\n",
        "                                      transforms.CenterCrop(224),\n",
        "                                      transforms.ToTensor(),\n",
        "                                      transforms.Normalize((0.5, 0.5, 0.5), (0.5, 0.5, 0.5))                                    \n",
        "])\n",
        "\n",
        "########\n",
        "\n",
        "For transfer learning part:\n",
        "train_transform = transforms.Compose([transforms.Resize(256),      \n",
        "                                      transforms.CenterCrop(224),  \n",
        "                                      transforms.ToTensor(),\n",
        "                                      transforms.Normalize(mean=mean_imagenet, std=std_imagenet)])\n",
        "])\n",
        "eval_transform = transforms.Compose([transforms.Resize(256),\n",
        "                                      transforms.CenterCrop(224),\n",
        "                                      transforms.ToTensor(),\n",
        "                                      transforms.Normalize(mean=mean_imagenet, std=std_imagenet)])\n",
        "])\n",
        "\n",
        "########\n",
        "\"\"\""
      ],
      "execution_count": 0,
      "outputs": [
        {
          "output_type": "execute_result",
          "data": {
            "text/plain": [
              "'\\nOther sets for data augmentation:\\ntrain_transform_set1 = transforms.Compose([transforms.RandomResizedCrop(size=256, scale=(0.8, 1.0)),\\n                                         transforms.RandomRotation(degrees=20),\\n                                         transforms.RandomHorizontalFlip(),\\n                                         transforms.CenterCrop(size=224),  \\n                                         transforms.ToTensor(),\\n                                         transforms.Normalize(mean=mean_imagenet, std=std_imagenet)])\\n\\ntrain_transform_set2 = transforms.Compose([transforms.RandomResizedCrop(size=256, scale=(0.8, 1.0)),\\n                                         transforms.RandomRotation(degrees=10),\\n                                         transforms.ColorJitter(),\\n                                         transforms.RandomHorizontalFlip(),\\n                                         transforms.CenterCrop(size=224),  \\n                                         transforms.ToTensor(),\\n                                         transforms.Normalize(mean=mean_imagenet, std=std_imagenet)])\\n\\n########\\n\\nFor training from scratch:\\ntrain_transform = transforms.Compose([transforms.Resize(256),      \\n                                      transforms.CenterCrop(224),  \\n                                      transforms.ToTensor(),\\n                                      transforms.Normalize((0.5, 0.5, 0.5), (0.5, 0.5, 0.5))\\n])\\neval_transform = transforms.Compose([transforms.Resize(256),\\n                                      transforms.CenterCrop(224),\\n                                      transforms.ToTensor(),\\n                                      transforms.Normalize((0.5, 0.5, 0.5), (0.5, 0.5, 0.5))                                    \\n])\\n\\n########\\n\\nFor transfer learning part:\\ntrain_transform = transforms.Compose([transforms.Resize(256),      \\n                                      transforms.CenterCrop(224),  \\n                                      transforms.ToTensor(),\\n                                      transforms.Normalize(mean=mean_imagenet, std=std_imagenet)])\\n])\\neval_transform = transforms.Compose([transforms.Resize(256),\\n                                      transforms.CenterCrop(224),\\n                                      transforms.ToTensor(),\\n                                      transforms.Normalize(mean=mean_imagenet, std=std_imagenet)])\\n])\\n\\n########\\n'"
            ]
          },
          "metadata": {
            "tags": []
          },
          "execution_count": 6
        }
      ]
    },
    {
      "cell_type": "markdown",
      "metadata": {
        "id": "2qYIHPzYLY7i",
        "colab_type": "text"
      },
      "source": [
        "**Prepare Dataset**"
      ]
    },
    {
      "cell_type": "code",
      "metadata": {
        "id": "QfVq_uDHLbsR",
        "colab_type": "code",
        "outputId": "a4dc67bc-2f09-471f-d3ca-e6cab09aa592",
        "colab": {
          "base_uri": "https://localhost:8080/",
          "height": 119
        }
      },
      "source": [
        "from sklearn.model_selection import StratifiedShuffleSplit\n",
        "\n",
        "# Clone github repository with data\n",
        "if not os.path.isdir('./Caltech101'):\n",
        "    !git clone https://github.com/MachineLearning2020/Homework2-Caltech101.git\n",
        "    !mv 'Homework2-Caltech101' 'Caltech101'\n",
        "\n",
        "DATA_DIR = 'Caltech101/'\n",
        "\n",
        "def prepare_datasets(train_transform, eval_transform):\n",
        "    # Prepare Pytorch train/test Datasets\n",
        "    train_dataset = Caltech(DATA_DIR, split='train',  transform=train_transform)\n",
        "    test_dataset = Caltech(DATA_DIR, split='test', transform=eval_transform)\n",
        "\n",
        "    # Using Stratified strategy to split the datasets\n",
        "    # It will mantain the classes distribution\n",
        "    sss = StratifiedShuffleSplit(n_splits=1, test_size=0.5, random_state=0)\n",
        "\n",
        "    x_placeholder = np.zeros(len(train_dataset))\n",
        "    y = train_dataset.get_labels()\n",
        "    train_indexes, val_indexes = next(sss.split(x_placeholder, y))\n",
        "\n",
        "    val_dataset = Subset(train_dataset, val_indexes)  # There was an error here, becouse it was rewirting the variable train_dataset\n",
        "    train_dataset = Subset(train_dataset, train_indexes)  # just swap lines and solve it\n",
        "\n",
        "    # Check dataset sizes\n",
        "    print('Train Dataset: {}'.format(len(train_dataset)))\n",
        "    print('Valid Dataset: {}'.format(len(val_dataset)))\n",
        "    print('Test Dataset: {}'.format(len(test_dataset)))\n",
        "    return train_dataset, val_dataset, test_dataset\n",
        "\n"
      ],
      "execution_count": 0,
      "outputs": [
        {
          "output_type": "stream",
          "text": [
            "Cloning into 'Homework2-Caltech101'...\n",
            "remote: Enumerating objects: 9256, done.\u001b[K\n",
            "remote: Total 9256 (delta 0), reused 0 (delta 0), pack-reused 9256\u001b[K\n",
            "Receiving objects: 100% (9256/9256), 129.48 MiB | 28.95 MiB/s, done.\n",
            "Resolving deltas: 100% (4/4), done.\n",
            "Checking out files: 100% (9149/9149), done.\n"
          ],
          "name": "stdout"
        }
      ]
    },
    {
      "cell_type": "code",
      "metadata": {
        "id": "WeiVVe8K_gZN",
        "colab_type": "code",
        "outputId": "9f7eae4f-4b69-41f3-dc81-65313be406a4",
        "colab": {
          "base_uri": "https://localhost:8080/",
          "height": 68
        }
      },
      "source": [
        "train_dataset, val_dataset, test_dataset = prepare_datasets(train_transform, eval_transform)\n"
      ],
      "execution_count": 0,
      "outputs": [
        {
          "output_type": "stream",
          "text": [
            "Train Dataset: 2892\n",
            "Valid Dataset: 2892\n",
            "Test Dataset: 2893\n"
          ],
          "name": "stdout"
        }
      ]
    },
    {
      "cell_type": "markdown",
      "metadata": {
        "id": "FYEDQ7Z21ldN",
        "colab_type": "text"
      },
      "source": [
        "**Prepare Dataloaders**"
      ]
    },
    {
      "cell_type": "code",
      "metadata": {
        "id": "VriRw8SI1nle",
        "colab_type": "code",
        "colab": {}
      },
      "source": [
        "# Dataloaders iterate over pytorch datasets and transparently provide useful functions (e.g. parallelization and shuffling)\n",
        "def prepare_dataloaders(train_dataset, val_dataset, test_dataset, batch_size):\n",
        "    train_dataloader = DataLoader(train_dataset, batch_size=batch_size, shuffle=True, num_workers=4, drop_last=True)\n",
        "    val_dataloader = DataLoader(val_dataset, batch_size=batch_size, shuffle=False, num_workers=4)\n",
        "    test_dataloader = DataLoader(test_dataset, batch_size=batch_size, shuffle=False, num_workers=4)\n",
        "\n",
        "    return train_dataloader, val_dataloader, test_dataloader\n"
      ],
      "execution_count": 0,
      "outputs": []
    },
    {
      "cell_type": "code",
      "metadata": {
        "id": "O-xD17oT_3KT",
        "colab_type": "code",
        "colab": {}
      },
      "source": [
        "train_dataloader, val_dataloader, test_dataloader = prepare_dataloaders(train_dataset, val_dataset, test_dataset, BATCH_SIZE)"
      ],
      "execution_count": 0,
      "outputs": []
    },
    {
      "cell_type": "markdown",
      "metadata": {
        "id": "zwORTBg96jU_",
        "colab_type": "text"
      },
      "source": [
        "In order to check the dataloaders."
      ]
    },
    {
      "cell_type": "code",
      "metadata": {
        "id": "wjZiKa9O6iTq",
        "colab_type": "code",
        "outputId": "7a6fb0b0-5849-4df5-b779-bfea35bd88e6",
        "colab": {
          "base_uri": "https://localhost:8080/",
          "height": 148
        }
      },
      "source": [
        "# As our images are normalized we have to denormalize them and \n",
        "# convert them to numpy arrays.\n",
        "def imshow(img, title=None):\n",
        "    img = img.numpy().transpose((1, 2, 0))\n",
        "    mean = np.array([0.485, 0.456, 0.406])\n",
        "    std = np.array([0.229, 0.224, 0.225])\n",
        "    img = std*img + mean\n",
        "    img = np.clip(img, 0, 1)\n",
        "    plt.imshow(img)\n",
        "    if title is not None:\n",
        "        plt.title(title)\n",
        "    plt.pause(0.001) #Pause is necessary to display images correctly\n",
        "    \n",
        "images, labels = next(iter(train_dataloader))\n",
        "grid_img = torchvision.utils.make_grid(images[:4], nrow=4)\n",
        "imshow(grid_img, title=[train_dataloader.dataset.dataset.get_labels_dict()[int(x)] for x in labels[:4]])\n"
      ],
      "execution_count": 0,
      "outputs": [
        {
          "output_type": "display_data",
          "data": {
            "image/png": "[encoded data removed]",
            "text/plain": [
              "<Figure size 432x288 with 1 Axes>"
            ]
          },
          "metadata": {
            "tags": [],
            "needs_background": "light"
          }
        }
      ]
    },
    {
      "cell_type": "markdown",
      "metadata": {
        "id": "gbZ1t5Qs2z4j",
        "colab_type": "text"
      },
      "source": [
        "**Prepare Network**"
      ]
    },
    {
      "cell_type": "code",
      "metadata": {
        "id": "exHUjtXa22DN",
        "colab_type": "code",
        "colab": {}
      },
      "source": [
        "# net = alexnet() # Loading AlexNet model without be pretrained\n",
        "\n",
        "net = alexnet(pretrained=True) # Loading AlexNet model pretrained with ImageNet\n",
        "\n",
        "\"\"\"\n",
        "For freeze the conv layers\n",
        "for param in net.parameters():\n",
        "    param.requires_grad = False\n",
        "\"\"\"\n",
        "\n",
        "# AlexNet has 1000 output neurons, corresponding to the 1000 ImageNet's classes\n",
        "# We need 101 outputs for Caltech-101\n",
        "net.classifier[6] = nn.Linear(4096, NUM_CLASSES) # nn.Linear in pytorch is a fully connected layer\n",
        "                                                 # The convolutional layer is nn.Conv2d\n",
        "\"\"\"\n",
        "For freeze the last fully connected layer\n",
        "for param in net.classifier.parameters():\n",
        "    param.requires_grad = False\n",
        "\"\"\"\n",
        "\n",
        "# We just changed the last layer of AlexNet with a new fully connected layer with 101 outputs\n",
        "# It is strongly suggested to study torchvision.models.alexnet source code"
      ],
      "execution_count": 0,
      "outputs": []
    },
    {
      "cell_type": "markdown",
      "metadata": {
        "id": "KEyL3H_R4qCf",
        "colab_type": "text"
      },
      "source": [
        "**Prepare Training**"
      ]
    },
    {
      "cell_type": "code",
      "metadata": {
        "id": "9sjq00G94tSc",
        "colab_type": "code",
        "colab": {}
      },
      "source": [
        "# Define loss function\n",
        "criterion = nn.CrossEntropyLoss() # for classification, we use Cross Entropy\n",
        "\n",
        "# Choose parameters to optimize\n",
        "# To access a different set of parameters, you have to access submodules of AlexNet\n",
        "# (nn.Module objects, like AlexNet, implement the Composite Pattern)\n",
        "# e.g.: parameters of the fully connected layers: net.classifier.parameters()\n",
        "# e.g.: parameters of the convolutional layers: look at alexnet's source code ;) \n",
        "parameters_to_optimize = net.parameters() # In this case we optimize over all the parameters of AlexNet\n",
        "\n",
        "\"\"\"\n",
        "In case we optimize over the parameters of the last fully connected layer\n",
        "parameters_to_optimize = []\n",
        "for name, param in net.named_parameters():\n",
        "    if param.requires_grad == True:\n",
        "        parameters_to_optimize.append(param)\n",
        "\n",
        "In this case we optimize over the parameters of the convolutional layers\n",
        "parameters_to_optimize = []\n",
        "for name, param in net.named_parameters():\n",
        "    if param.requires_grad == True:\n",
        "        parameters_to_optimize.append(param)\n",
        "\n",
        "\"\"\"\n",
        "\n",
        "# Define optimizer\n",
        "# An optimizer updates the weights based on loss\n",
        "# We use SGD with momentum\n",
        "optimizer = optim.SGD(parameters_to_optimize, lr=LR, momentum=MOMENTUM, weight_decay=WEIGHT_DECAY)\n",
        "\n",
        "# Define scheduler\n",
        "# A scheduler dynamically changes learning rate\n",
        "# The most common schedule is the step(-down), which multiplies learning rate by gamma every STEP_SIZE epochs\n",
        "scheduler = optim.lr_scheduler.StepLR(optimizer, step_size=STEP_SIZE, gamma=GAMMA)"
      ],
      "execution_count": 0,
      "outputs": []
    },
    {
      "cell_type": "markdown",
      "metadata": {
        "id": "Sz1VbXLrrWH9",
        "colab_type": "text"
      },
      "source": [
        "**Load logging**"
      ]
    },
    {
      "cell_type": "code",
      "metadata": {
        "id": "U5QU4Oqob-Ta",
        "colab_type": "code",
        "colab": {}
      },
      "source": [
        "from google.colab import drive\n",
        "\n",
        "LOG_DIR = \"runs\"\n",
        "\n",
        "# In order to save the results in google drive.\n",
        "# drive.mount('/gdrive')\n",
        "# !ln -s \"/gdrive/My Drive/Colab Notebooks/runs\" \"/content/runs\"\n",
        "\n",
        "%load_ext tensorboard\n"
      ],
      "execution_count": 0,
      "outputs": []
    },
    {
      "cell_type": "code",
      "metadata": {
        "id": "AK1_bR4zrz1E",
        "colab_type": "code",
        "outputId": "17986cf4-dbeb-4015-b927-a639a03e43b8",
        "colab": {
          "base_uri": "https://localhost:8080/",
          "height": 821
        }
      },
      "source": [
        "%tensorboard --logdir /content/runs\n"
      ],
      "execution_count": 0,
      "outputs": []
    },
    {
      "cell_type": "markdown",
      "metadata": {
        "id": "AxYUli9d9uYQ",
        "colab_type": "text"
      },
      "source": [
        "**Train**"
      ]
    },
    {
      "cell_type": "code",
      "metadata": {
        "id": "ZcoQ5fD49yT_",
        "colab_type": "code",
        "colab": {}
      },
      "source": [
        "from torch.utils.tensorboard import SummaryWriter\n",
        "from datetime import datetime\n",
        "\n",
        "def train_model(net, log_folder, train_dataloader, optimizer, criterion, scheduler, num_epochs):\n",
        "    # By default, everything is loaded to cpu\n",
        "    net = net.to(DEVICE) # this will bring the network to GPU if DEVICE is cuda\n",
        "\n",
        "    cudnn.benchmark # Calling this optimizes runtime\n",
        "\n",
        "    # TensorboardX summary writer\n",
        "    now = datetime.now()\n",
        "    params_save = 'lr: {}, g: {}, batch: {}, epochs: {}, step: {}'.format(\n",
        "        scheduler.get_last_lr(), scheduler.gamma, train_dataloader.batch_size, \n",
        "        num_epochs, scheduler.step_size)\n",
        "    \n",
        "    log_dir = os.path.join(log_folder, now.strftime('%m-%d %H:%M:%S, ') + params_save)\n",
        "    tbwriter = SummaryWriter(log_dir=log_dir)\n",
        "\n",
        "    current_step = 0\n",
        "    # Start iterating over the epochs\n",
        "    for epoch in range(num_epochs):\n",
        "        print('Starting epoch {}/{}, LR = {}'.format(epoch+1, num_epochs, scheduler.get_last_lr()))\n",
        "\n",
        "        # Iterate over the dataset\n",
        "        for images, labels in train_dataloader:\n",
        "            # Bring data over the device of choice\n",
        "            images = images.to(DEVICE)\n",
        "            labels = labels.to(DEVICE)\n",
        "\n",
        "            net.train() # Sets module in training mode\n",
        "\n",
        "            # PyTorch, by default, accumulates gradients after each backward pass\n",
        "            # We need to manually set the gradients to zero before starting a new iteration\n",
        "            optimizer.zero_grad() # Zero-ing the gradients\n",
        "\n",
        "            # Forward pass to the network\n",
        "            outputs = net(images)\n",
        "\n",
        "            # Compute loss based on output and ground truth\n",
        "            loss = criterion(outputs, labels)\n",
        "\n",
        "            # Log the information and add to tensorboard\n",
        "            if current_step % LOG_FREQUENCY == 0:\n",
        "                with torch.no_grad():\n",
        "                    _, preds = torch.max(outputs, 1)\n",
        "                    accuracy = torch.sum(preds == labels) / float(len(labels))\n",
        "\n",
        "                    print('Epoch: {} \\tStep: {} \\tLoss: {:.4f} \\tAcc: {}'\n",
        "                        .format(epoch + 1, current_step, loss.item(), accuracy.item()))\n",
        "                    tbwriter.add_scalar('loss', loss.item(), current_step)\n",
        "                    tbwriter.add_scalar('accuracy', accuracy.item(), current_step)\n",
        "\n",
        "            # Compute gradients for each layer and update weights\n",
        "            loss.backward()  # backward pass: computes gradients\n",
        "            optimizer.step() # update weights based on accumulated gradients\n",
        "\n",
        "            current_step += 1\n",
        "\n",
        "        # Step the scheduler\n",
        "        scheduler.step() \n",
        "\n",
        "    tbwriter.close()"
      ],
      "execution_count": 0,
      "outputs": []
    },
    {
      "cell_type": "code",
      "metadata": {
        "id": "eNnDxImk3X_5",
        "colab_type": "code",
        "outputId": "db87efba-0def-4ef2-b249-29767d1fb23c",
        "colab": {
          "base_uri": "https://localhost:8080/",
          "height": 731
        }
      },
      "source": [
        "log_folder_tfs = 'runs/tfs_all'\n",
        "\n",
        "train_model(net, log_folder_tfs, train_dataloader, optimizer, criterion, scheduler, NUM_EPOCHS)"
      ],
      "execution_count": 0,
      "outputs": [
        {
          "output_type": "stream",
          "text": [
            "Starting epoch 1/20, LR = [0.02]\n",
            "Epoch: 1 \tStep: 0 \tLoss: 4.8439 \tAcc: 0.01953125\n",
            "Epoch: 1 \tStep: 10 \tLoss: 1.3740 \tAcc: 0.67578125\n",
            "Starting epoch 2/20, LR = [0.02]\n",
            "Epoch: 2 \tStep: 20 \tLoss: 0.7205 \tAcc: 0.84765625\n",
            "Starting epoch 3/20, LR = [0.02]\n",
            "Epoch: 3 \tStep: 30 \tLoss: 0.4337 \tAcc: 0.87109375\n",
            "Starting epoch 4/20, LR = [0.02]\n",
            "Epoch: 4 \tStep: 40 \tLoss: 0.2912 \tAcc: 0.8984375\n",
            "Starting epoch 5/20, LR = [0.01]\n",
            "Epoch: 5 \tStep: 50 \tLoss: 0.1619 \tAcc: 0.9609375\n",
            "Starting epoch 6/20, LR = [0.01]\n",
            "Epoch: 6 \tStep: 60 \tLoss: 0.0382 \tAcc: 0.99609375\n",
            "Starting epoch 7/20, LR = [0.01]\n",
            "Epoch: 7 \tStep: 70 \tLoss: 0.0317 \tAcc: 0.98828125\n",
            "Starting epoch 8/20, LR = [0.01]\n",
            "Epoch: 8 \tStep: 80 \tLoss: 0.0211 \tAcc: 0.9921875\n",
            "Starting epoch 9/20, LR = [0.005]\n",
            "Epoch: 9 \tStep: 90 \tLoss: 0.0145 \tAcc: 0.99609375\n",
            "Starting epoch 10/20, LR = [0.005]\n",
            "Epoch: 10 \tStep: 100 \tLoss: 0.0507 \tAcc: 0.99609375\n",
            "Starting epoch 11/20, LR = [0.005]\n",
            "Epoch: 11 \tStep: 110 \tLoss: 0.0202 \tAcc: 0.98828125\n",
            "Epoch: 11 \tStep: 120 \tLoss: 0.0368 \tAcc: 0.9921875\n",
            "Starting epoch 12/20, LR = [0.005]\n",
            "Epoch: 12 \tStep: 130 \tLoss: 0.0087 \tAcc: 1.0\n",
            "Starting epoch 13/20, LR = [0.0025]\n",
            "Epoch: 13 \tStep: 140 \tLoss: 0.0196 \tAcc: 0.99609375\n",
            "Starting epoch 14/20, LR = [0.0025]\n",
            "Epoch: 14 \tStep: 150 \tLoss: 0.0061 \tAcc: 1.0\n",
            "Starting epoch 15/20, LR = [0.0025]\n",
            "Epoch: 15 \tStep: 160 \tLoss: 0.0099 \tAcc: 0.99609375\n",
            "Starting epoch 16/20, LR = [0.0025]\n",
            "Epoch: 16 \tStep: 170 \tLoss: 0.0020 \tAcc: 1.0\n",
            "Starting epoch 17/20, LR = [0.00125]\n",
            "Epoch: 17 \tStep: 180 \tLoss: 0.0015 \tAcc: 1.0\n",
            "Starting epoch 18/20, LR = [0.00125]\n",
            "Epoch: 18 \tStep: 190 \tLoss: 0.0054 \tAcc: 1.0\n",
            "Starting epoch 19/20, LR = [0.00125]\n",
            "Epoch: 19 \tStep: 200 \tLoss: 0.0049 \tAcc: 1.0\n",
            "Starting epoch 20/20, LR = [0.00125]\n",
            "Epoch: 20 \tStep: 210 \tLoss: 0.0069 \tAcc: 1.0\n"
          ],
          "name": "stdout"
        }
      ]
    },
    {
      "cell_type": "markdown",
      "metadata": {
        "id": "UsHFI-GAJd69",
        "colab_type": "text"
      },
      "source": [
        "**Validation**"
      ]
    },
    {
      "cell_type": "code",
      "metadata": {
        "id": "EO3HV5pqJg1o",
        "colab_type": "code",
        "colab": {}
      },
      "source": [
        "def val_model(net, val_dataloader):\n",
        "    net = net.to(DEVICE) # this will bring the network to GPU if DEVICE is cuda\n",
        "    net.train(False) # Set Network to evaluation mode\n",
        "\n",
        "    running_corrects = 0\n",
        "    for images, labels in tqdm(val_dataloader):\n",
        "        images = images.to(DEVICE)\n",
        "        labels = labels.to(DEVICE)\n",
        "\n",
        "        # Forward Pass\n",
        "        outputs = net(images)\n",
        "\n",
        "        # Get predictions\n",
        "        _, preds = torch.max(outputs.data, 1)\n",
        "\n",
        "        # Update Corrects\n",
        "        running_corrects += torch.sum(preds == labels.data).data.item()\n",
        "\n",
        "    # Calculate Accuracy\n",
        "    accuracy = running_corrects / float(len(val_dataloader.dataset))\n",
        "\n",
        "    print('\\nValidation Accuracy: {}'.format(accuracy))"
      ],
      "execution_count": 0,
      "outputs": []
    },
    {
      "cell_type": "code",
      "metadata": {
        "id": "UnTgj_-k5UkZ",
        "colab_type": "code",
        "outputId": "e1138470-5d9c-4738-d331-7ea4e2afe001",
        "colab": {
          "base_uri": "https://localhost:8080/",
          "height": 68
        }
      },
      "source": [
        "val_model(net, val_dataloader)"
      ],
      "execution_count": 0,
      "outputs": [
        {
          "output_type": "stream",
          "text": [
            "100%|██████████| 12/12 [00:07<00:00,  1.63it/s]"
          ],
          "name": "stderr"
        },
        {
          "output_type": "stream",
          "text": [
            "\n",
            "Validation Accuracy: 0.8423236514522822\n"
          ],
          "name": "stdout"
        },
        {
          "output_type": "stream",
          "text": [
            "\n"
          ],
          "name": "stderr"
        }
      ]
    },
    {
      "cell_type": "markdown",
      "metadata": {
        "id": "jxekmR745ySe",
        "colab_type": "text"
      },
      "source": [
        "**Test**"
      ]
    },
    {
      "cell_type": "code",
      "metadata": {
        "id": "fSHcUqLB5yWO",
        "colab_type": "code",
        "colab": {}
      },
      "source": [
        "def test_model(net, test_dataloader):\n",
        "    net = net.to(DEVICE) # this will bring the network to GPU if DEVICE is cuda\n",
        "    net.train(False) # Set Network to evaluation mode\n",
        "\n",
        "    running_corrects = 0\n",
        "    for images, labels in tqdm(test_dataloader):\n",
        "        images = images.to(DEVICE)\n",
        "        labels = labels.to(DEVICE)\n",
        "\n",
        "        # Forward Pass\n",
        "        outputs = net(images)\n",
        "\n",
        "        # Get predictions\n",
        "        _, preds = torch.max(outputs.data, 1)\n",
        "\n",
        "        # Update Corrects\n",
        "        running_corrects += torch.sum(preds == labels.data).data.item()\n",
        "\n",
        "    # Calculate Accuracy\n",
        "    accuracy = running_corrects / float(len(test_dataloader.dataset))\n",
        "\n",
        "    print('\\nTest Accuracy: {}'.format(accuracy))"
      ],
      "execution_count": 0,
      "outputs": []
    },
    {
      "cell_type": "code",
      "metadata": {
        "id": "9NPDMEP96sRx",
        "colab_type": "code",
        "colab": {}
      },
      "source": [
        "test_model(net, test_dataloader)"
      ],
      "execution_count": 0,
      "outputs": []
    }
  ]
}